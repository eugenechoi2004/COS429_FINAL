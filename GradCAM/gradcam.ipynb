{
 "cells": [
  {
   "cell_type": "markdown",
   "metadata": {},
   "source": [
    "GradCam Analysis\n",
    "\n",
    "Note: Reused code from https://towardsdatascience.com/grad-cam-in-pytorch-use-of-forward-and-backward-hooks-7eba5e38d569"
   ]
  },
  {
   "cell_type": "code",
   "execution_count": 5,
   "metadata": {},
   "outputs": [
    {
     "name": "stdout",
     "output_type": "stream",
     "text": [
      "The autoreload extension is already loaded. To reload it, use:\n",
      "  %reload_ext autoreload\n"
     ]
    }
   ],
   "source": [
    "import os\n",
    "import sys\n",
    "sys.path.append(\"/Users/edmundyoung/Desktop/Princeton/Courses/S23/COS429/FinalProject/COS429_FINAL\")\n",
    "sys.path.append(\"/Users/edmundyoung/Desktop/Princeton/Courses/S23/COS429/FinalProject/COS429_FINAL/models\")\n",
    "sys.path.append(\"/Users/edmundyoung/Desktop/Princeton/Courses/S23/COS429/FinalProject/COS429_FINAL/data\")\n",
    "import matplotlib.pyplot as plt\n",
    "import numpy as np\n",
    "import torch\n",
    "\n",
    "from models import CNNClassifier, CNNEncoderV1, Classifier\n",
    "from data_utils import get_loaders, get_svhn_data_loaders, get_mnist_data_loaders, get_usps_data_loaders\n",
    "\n",
    "%load_ext autoreload\n",
    "%autoreload 2"
   ]
  },
  {
   "cell_type": "code",
   "execution_count": 6,
   "metadata": {},
   "outputs": [],
   "source": [
    "def load_model(encoder_path, classifier_path):\n",
    "   model = CNNClassifier()\n",
    "   encoder = CNNEncoderV1()\n",
    "   classifier = Classifier()\n",
    "\n",
    "   encoder.load_state_dict(torch.load(encoder_path, map_location=torch.device('cpu')))\n",
    "   classifier.load_state_dict(torch.load(classifier_path, map_location=torch.device('cpu')))\n",
    "  \n",
    "   model.encoder = encoder\n",
    "\n",
    "   return model"
   ]
  },
  {
   "cell_type": "code",
   "execution_count": 8,
   "metadata": {},
   "outputs": [
    {
     "name": "stdout",
     "output_type": "stream",
     "text": [
      "CNNClassifier(\n",
      "  (encoder): CNNEncoderV1(\n",
      "    (conv1): Sequential(\n",
      "      (0): Conv2d(1, 20, kernel_size=(5, 5), stride=(1, 1))\n",
      "      (1): BatchNorm2d(20, eps=1e-05, momentum=0.1, affine=True, track_running_stats=True)\n",
      "      (2): MaxPool2d(kernel_size=2, stride=2, padding=0, dilation=1, ceil_mode=False)\n",
      "      (3): ReLU()\n",
      "    )\n",
      "    (conv2): Sequential(\n",
      "      (0): Conv2d(20, 50, kernel_size=(5, 5), stride=(1, 1))\n",
      "      (1): Dropout2d(p=0.5, inplace=False)\n",
      "      (2): MaxPool2d(kernel_size=2, stride=2, padding=0, dilation=1, ceil_mode=False)\n",
      "      (3): ReLU()\n",
      "    )\n",
      "    (linearize): Linear(in_features=800, out_features=500, bias=True)\n",
      "  )\n",
      "  (classifier): Classifier(\n",
      "    (hidden): Linear(in_features=500, out_features=10, bias=True)\n",
      "  )\n",
      ")\n",
      "CNNClassifier(\n",
      "  (encoder): CNNEncoderV1(\n",
      "    (conv1): Sequential(\n",
      "      (0): Conv2d(1, 20, kernel_size=(5, 5), stride=(1, 1))\n",
      "      (1): BatchNorm2d(20, eps=1e-05, momentum=0.1, affine=True, track_running_stats=True)\n",
      "      (2): MaxPool2d(kernel_size=2, stride=2, padding=0, dilation=1, ceil_mode=False)\n",
      "      (3): ReLU()\n",
      "    )\n",
      "    (conv2): Sequential(\n",
      "      (0): Conv2d(20, 50, kernel_size=(5, 5), stride=(1, 1))\n",
      "      (1): Dropout2d(p=0.5, inplace=False)\n",
      "      (2): MaxPool2d(kernel_size=2, stride=2, padding=0, dilation=1, ceil_mode=False)\n",
      "      (3): ReLU()\n",
      "    )\n",
      "    (linearize): Linear(in_features=800, out_features=500, bias=True)\n",
      "  )\n",
      "  (classifier): Classifier(\n",
      "    (hidden): Linear(in_features=500, out_features=10, bias=True)\n",
      "  )\n",
      ")\n",
      "CNNClassifier(\n",
      "  (encoder): CNNEncoderV1(\n",
      "    (conv1): Sequential(\n",
      "      (0): Conv2d(1, 20, kernel_size=(5, 5), stride=(1, 1))\n",
      "      (1): BatchNorm2d(20, eps=1e-05, momentum=0.1, affine=True, track_running_stats=True)\n",
      "      (2): MaxPool2d(kernel_size=2, stride=2, padding=0, dilation=1, ceil_mode=False)\n",
      "      (3): ReLU()\n",
      "    )\n",
      "    (conv2): Sequential(\n",
      "      (0): Conv2d(20, 50, kernel_size=(5, 5), stride=(1, 1))\n",
      "      (1): Dropout2d(p=0.5, inplace=False)\n",
      "      (2): MaxPool2d(kernel_size=2, stride=2, padding=0, dilation=1, ceil_mode=False)\n",
      "      (3): ReLU()\n",
      "    )\n",
      "    (linearize): Linear(in_features=800, out_features=500, bias=True)\n",
      "  )\n",
      "  (classifier): Classifier(\n",
      "    (hidden): Linear(in_features=500, out_features=10, bias=True)\n",
      "  )\n",
      ")\n",
      "CNNClassifier(\n",
      "  (encoder): CNNEncoderV1(\n",
      "    (conv1): Sequential(\n",
      "      (0): Conv2d(1, 20, kernel_size=(5, 5), stride=(1, 1))\n",
      "      (1): BatchNorm2d(20, eps=1e-05, momentum=0.1, affine=True, track_running_stats=True)\n",
      "      (2): MaxPool2d(kernel_size=2, stride=2, padding=0, dilation=1, ceil_mode=False)\n",
      "      (3): ReLU()\n",
      "    )\n",
      "    (conv2): Sequential(\n",
      "      (0): Conv2d(20, 50, kernel_size=(5, 5), stride=(1, 1))\n",
      "      (1): Dropout2d(p=0.5, inplace=False)\n",
      "      (2): MaxPool2d(kernel_size=2, stride=2, padding=0, dilation=1, ceil_mode=False)\n",
      "      (3): ReLU()\n",
      "    )\n",
      "    (linearize): Linear(in_features=800, out_features=500, bias=True)\n",
      "  )\n",
      "  (classifier): Classifier(\n",
      "    (hidden): Linear(in_features=500, out_features=10, bias=True)\n",
      "  )\n",
      ")\n",
      "CNNClassifier(\n",
      "  (encoder): CNNEncoderV1(\n",
      "    (conv1): Sequential(\n",
      "      (0): Conv2d(1, 20, kernel_size=(5, 5), stride=(1, 1))\n",
      "      (1): BatchNorm2d(20, eps=1e-05, momentum=0.1, affine=True, track_running_stats=True)\n",
      "      (2): MaxPool2d(kernel_size=2, stride=2, padding=0, dilation=1, ceil_mode=False)\n",
      "      (3): ReLU()\n",
      "    )\n",
      "    (conv2): Sequential(\n",
      "      (0): Conv2d(20, 50, kernel_size=(5, 5), stride=(1, 1))\n",
      "      (1): Dropout2d(p=0.5, inplace=False)\n",
      "      (2): MaxPool2d(kernel_size=2, stride=2, padding=0, dilation=1, ceil_mode=False)\n",
      "      (3): ReLU()\n",
      "    )\n",
      "    (linearize): Linear(in_features=800, out_features=500, bias=True)\n",
      "  )\n",
      "  (classifier): Classifier(\n",
      "    (hidden): Linear(in_features=500, out_features=10, bias=True)\n",
      "  )\n",
      ")\n",
      "CNNClassifier(\n",
      "  (encoder): CNNEncoderV1(\n",
      "    (conv1): Sequential(\n",
      "      (0): Conv2d(1, 20, kernel_size=(5, 5), stride=(1, 1))\n",
      "      (1): BatchNorm2d(20, eps=1e-05, momentum=0.1, affine=True, track_running_stats=True)\n",
      "      (2): MaxPool2d(kernel_size=2, stride=2, padding=0, dilation=1, ceil_mode=False)\n",
      "      (3): ReLU()\n",
      "    )\n",
      "    (conv2): Sequential(\n",
      "      (0): Conv2d(20, 50, kernel_size=(5, 5), stride=(1, 1))\n",
      "      (1): Dropout2d(p=0.5, inplace=False)\n",
      "      (2): MaxPool2d(kernel_size=2, stride=2, padding=0, dilation=1, ceil_mode=False)\n",
      "      (3): ReLU()\n",
      "    )\n",
      "    (linearize): Linear(in_features=800, out_features=500, bias=True)\n",
      "  )\n",
      "  (classifier): Classifier(\n",
      "    (hidden): Linear(in_features=500, out_features=10, bias=True)\n",
      "  )\n",
      ")\n"
     ]
    }
   ],
   "source": [
    "path_prefix = \"/Users/edmundyoung/Desktop/Princeton/Courses/S23/COS429/FinalProject/COS429_FINAL\"\n",
    "\n",
    "models = {}\n",
    "models[\"mnist_svhn\"] = load_model(path_prefix + \"/weights/MNIST_on_SVHN_encoder.pt\", path_prefix + \"/weights/1/categorizer_{'mnist'}.pt\")\n",
    "models[\"mnist_usps\"] = load_model(path_prefix + \"/weights/MNIST_on_USPS_encoder.pt\", path_prefix + \"/weights/1/categorizer_{'mnist'}.pt\")\n",
    "models[\"svhn_mnist\"] = load_model(path_prefix + \"/weights/SVHN_on_MNIST_encoder.pt\", path_prefix + \"/weights/3/categorizer_{'svhn'}.pt\")\n",
    "models[\"svhn_usps\"] = load_model(path_prefix + \"/weights/SVHN_on_USPS_encoder.pt\", path_prefix + \"/weights/3/categorizer_{'svhn'}.pt\")\n",
    "models[\"usps_mnist\"] = load_model(path_prefix + \"/weights/USPS_on_MNIST_encoder.pt\", path_prefix + \"/weights/2/categorizer_{'usps'}.pt\")\n",
    "models[\"usps_svhn\"] = load_model(path_prefix + \"/weights/USPS_on_SVHN_encoder.pt\", path_prefix + \"/weights/2/categorizer_{'usps'}.pt\")\n",
    "\n",
    "# put it in evaluation mode for inference\n",
    "for i in models.values():\n",
    "    i.eval()\n",
    "    print(i)"
   ]
  },
  {
   "cell_type": "code",
   "execution_count": 9,
   "metadata": {},
   "outputs": [],
   "source": [
    "layer = models[\"mnist_svhn\"].classifier"
   ]
  },
  {
   "cell_type": "code",
   "execution_count": 10,
   "metadata": {},
   "outputs": [],
   "source": [
    "# defines two global scope variables to store our gradients and activations\n",
    "gradients = None\n",
    "activations = None\n",
    "\n",
    "def backward_hook(module, grad_input, grad_output):\n",
    "  global gradients # refers to the variable in the global scope\n",
    "  print('Backward hook running...')\n",
    "  gradients = grad_output\n",
    "  # In this case, we expect it to be torch.Size([batch size, 1024, 8, 8])\n",
    "  print(f'Gradients size: {gradients[0].size()}') \n",
    "  # We need the 0 index because the tensor containing the gradients comes\n",
    "  # inside a one element tuple.\n",
    "\n",
    "def forward_hook(module, args, output):\n",
    "  global activations # refers to the variable in the global scope\n",
    "  print('Forward hook running...')\n",
    "  activations = output\n",
    "  # In this case, we expect it to be torch.Size([batch size, 1024, 8, 8])\n",
    "  print(f'Activations size: {activations.size()}')"
   ]
  },
  {
   "cell_type": "code",
   "execution_count": 11,
   "metadata": {},
   "outputs": [],
   "source": [
    "backward_hook = layer.register_full_backward_hook(backward_hook)\n",
    "forward_hook = layer.register_forward_hook(forward_hook)"
   ]
  },
  {
   "cell_type": "code",
   "execution_count": 12,
   "metadata": {},
   "outputs": [],
   "source": [
    "# Load images\n",
    "svhn = get_svhn_data_loaders()\n",
    "mnist = get_mnist_data_loaders()\n",
    "usps = get_usps_data_loaders()"
   ]
  },
  {
   "cell_type": "code",
   "execution_count": 13,
   "metadata": {},
   "outputs": [
    {
     "name": "stderr",
     "output_type": "stream",
     "text": [
      "[W ParallelNative.cpp:229] Warning: Cannot set number of intraop threads after parallel work has started or after set_num_threads call when using native parallel backend (function set_num_threads)\n"
     ]
    },
    {
     "data": {
      "text/plain": [
       "Text(0.5, 1.0, 'Label: 9')"
      ]
     },
     "execution_count": 13,
     "metadata": {},
     "output_type": "execute_result"
    },
    {
     "data": {
      "image/png": "[encoded data removed]",
      "text/plain": [
       "<Figure size 640x480 with 1 Axes>"
      ]
     },
     "metadata": {},
     "output_type": "display_data"
    }
   ],
   "source": [
    "train_data_iterator = iter(svhn['train'])\n",
    "images, label = train_data_iterator.__next__()\n",
    "\n",
    "image = images[0]\n",
    "# display the image\n",
    "fig, ax = plt.subplots()\n",
    "ax.imshow(image[0], cmap='gray')\n",
    "ax.set_title('Label: {}'.format(label[0]))"
   ]
  },
  {
   "cell_type": "code",
   "execution_count": 14,
   "metadata": {},
   "outputs": [
    {
     "ename": "RuntimeError",
     "evalue": "grad can be implicitly created only for scalar outputs",
     "output_type": "error",
     "traceback": [
      "\u001b[0;31m---------------------------------------------------------------------------\u001b[0m",
      "\u001b[0;31mRuntimeError\u001b[0m                              Traceback (most recent call last)",
      "\u001b[0;32m/var/folders/4h/h9s2_21x30jg2k3683jxrjv40000gn/T/ipykernel_12107/4031239319.py\u001b[0m in \u001b[0;36m<module>\u001b[0;34m\u001b[0m\n\u001b[0;32m----> 1\u001b[0;31m \u001b[0mmodels\u001b[0m\u001b[0;34m[\u001b[0m\u001b[0;34m\"mnist_svhn\"\u001b[0m\u001b[0;34m]\u001b[0m\u001b[0;34m(\u001b[0m\u001b[0mimage\u001b[0m\u001b[0;34m.\u001b[0m\u001b[0munsqueeze\u001b[0m\u001b[0;34m(\u001b[0m\u001b[0;36m0\u001b[0m\u001b[0;34m)\u001b[0m\u001b[0;34m)\u001b[0m\u001b[0;34m.\u001b[0m\u001b[0mbackward\u001b[0m\u001b[0;34m(\u001b[0m\u001b[0;34m)\u001b[0m\u001b[0;34m\u001b[0m\u001b[0;34m\u001b[0m\u001b[0m\n\u001b[0m",
      "\u001b[0;32m~/miniconda3/envs/cos429/lib/python3.7/site-packages/torch/_tensor.py\u001b[0m in \u001b[0;36mbackward\u001b[0;34m(self, gradient, retain_graph, create_graph, inputs)\u001b[0m\n\u001b[1;32m    487\u001b[0m             )\n\u001b[1;32m    488\u001b[0m         torch.autograd.backward(\n\u001b[0;32m--> 489\u001b[0;31m             \u001b[0mself\u001b[0m\u001b[0;34m,\u001b[0m \u001b[0mgradient\u001b[0m\u001b[0;34m,\u001b[0m \u001b[0mretain_graph\u001b[0m\u001b[0;34m,\u001b[0m \u001b[0mcreate_graph\u001b[0m\u001b[0;34m,\u001b[0m \u001b[0minputs\u001b[0m\u001b[0;34m=\u001b[0m\u001b[0minputs\u001b[0m\u001b[0;34m\u001b[0m\u001b[0;34m\u001b[0m\u001b[0m\n\u001b[0m\u001b[1;32m    490\u001b[0m         )\n\u001b[1;32m    491\u001b[0m \u001b[0;34m\u001b[0m\u001b[0m\n",
      "\u001b[0;32m~/miniconda3/envs/cos429/lib/python3.7/site-packages/torch/autograd/__init__.py\u001b[0m in \u001b[0;36mbackward\u001b[0;34m(tensors, grad_tensors, retain_graph, create_graph, grad_variables, inputs)\u001b[0m\n\u001b[1;32m    188\u001b[0m \u001b[0;34m\u001b[0m\u001b[0m\n\u001b[1;32m    189\u001b[0m     \u001b[0mgrad_tensors_\u001b[0m \u001b[0;34m=\u001b[0m \u001b[0m_tensor_or_tensors_to_tuple\u001b[0m\u001b[0;34m(\u001b[0m\u001b[0mgrad_tensors\u001b[0m\u001b[0;34m,\u001b[0m \u001b[0mlen\u001b[0m\u001b[0;34m(\u001b[0m\u001b[0mtensors\u001b[0m\u001b[0;34m)\u001b[0m\u001b[0;34m)\u001b[0m\u001b[0;34m\u001b[0m\u001b[0;34m\u001b[0m\u001b[0m\n\u001b[0;32m--> 190\u001b[0;31m     \u001b[0mgrad_tensors_\u001b[0m \u001b[0;34m=\u001b[0m \u001b[0m_make_grads\u001b[0m\u001b[0;34m(\u001b[0m\u001b[0mtensors\u001b[0m\u001b[0;34m,\u001b[0m \u001b[0mgrad_tensors_\u001b[0m\u001b[0;34m,\u001b[0m \u001b[0mis_grads_batched\u001b[0m\u001b[0;34m=\u001b[0m\u001b[0;32mFalse\u001b[0m\u001b[0;34m)\u001b[0m\u001b[0;34m\u001b[0m\u001b[0;34m\u001b[0m\u001b[0m\n\u001b[0m\u001b[1;32m    191\u001b[0m     \u001b[0;32mif\u001b[0m \u001b[0mretain_graph\u001b[0m \u001b[0;32mis\u001b[0m \u001b[0;32mNone\u001b[0m\u001b[0;34m:\u001b[0m\u001b[0;34m\u001b[0m\u001b[0;34m\u001b[0m\u001b[0m\n\u001b[1;32m    192\u001b[0m         \u001b[0mretain_graph\u001b[0m \u001b[0;34m=\u001b[0m \u001b[0mcreate_graph\u001b[0m\u001b[0;34m\u001b[0m\u001b[0;34m\u001b[0m\u001b[0m\n",
      "\u001b[0;32m~/miniconda3/envs/cos429/lib/python3.7/site-packages/torch/autograd/__init__.py\u001b[0m in \u001b[0;36m_make_grads\u001b[0;34m(outputs, grads, is_grads_batched)\u001b[0m\n\u001b[1;32m     83\u001b[0m             \u001b[0;32mif\u001b[0m \u001b[0mout\u001b[0m\u001b[0;34m.\u001b[0m\u001b[0mrequires_grad\u001b[0m\u001b[0;34m:\u001b[0m\u001b[0;34m\u001b[0m\u001b[0;34m\u001b[0m\u001b[0m\n\u001b[1;32m     84\u001b[0m                 \u001b[0;32mif\u001b[0m \u001b[0mout\u001b[0m\u001b[0;34m.\u001b[0m\u001b[0mnumel\u001b[0m\u001b[0;34m(\u001b[0m\u001b[0;34m)\u001b[0m \u001b[0;34m!=\u001b[0m \u001b[0;36m1\u001b[0m\u001b[0;34m:\u001b[0m\u001b[0;34m\u001b[0m\u001b[0;34m\u001b[0m\u001b[0m\n\u001b[0;32m---> 85\u001b[0;31m                     \u001b[0;32mraise\u001b[0m \u001b[0mRuntimeError\u001b[0m\u001b[0;34m(\u001b[0m\u001b[0;34m\"grad can be implicitly created only for scalar outputs\"\u001b[0m\u001b[0;34m)\u001b[0m\u001b[0;34m\u001b[0m\u001b[0;34m\u001b[0m\u001b[0m\n\u001b[0m\u001b[1;32m     86\u001b[0m                 \u001b[0mnew_grads\u001b[0m\u001b[0;34m.\u001b[0m\u001b[0mappend\u001b[0m\u001b[0;34m(\u001b[0m\u001b[0mtorch\u001b[0m\u001b[0;34m.\u001b[0m\u001b[0mones_like\u001b[0m\u001b[0;34m(\u001b[0m\u001b[0mout\u001b[0m\u001b[0;34m,\u001b[0m \u001b[0mmemory_format\u001b[0m\u001b[0;34m=\u001b[0m\u001b[0mtorch\u001b[0m\u001b[0;34m.\u001b[0m\u001b[0mpreserve_format\u001b[0m\u001b[0;34m)\u001b[0m\u001b[0;34m)\u001b[0m\u001b[0;34m\u001b[0m\u001b[0;34m\u001b[0m\u001b[0m\n\u001b[1;32m     87\u001b[0m             \u001b[0;32melse\u001b[0m\u001b[0;34m:\u001b[0m\u001b[0;34m\u001b[0m\u001b[0;34m\u001b[0m\u001b[0m\n",
      "\u001b[0;31mRuntimeError\u001b[0m: grad can be implicitly created only for scalar outputs"
     ]
    }
   ],
   "source": [
    "models[\"mnist_svhn\"](image.unsqueeze(0)).backward()"
   ]
  },
  {
   "cell_type": "code",
   "execution_count": 9,
   "metadata": {},
   "outputs": [
    {
     "ename": "AttributeError",
     "evalue": "'CNNClassifier' object has no attribute 'inputs'",
     "output_type": "error",
     "traceback": [
      "\u001b[0;31m---------------------------------------------------------------------------\u001b[0m",
      "\u001b[0;31mAttributeError\u001b[0m                            Traceback (most recent call last)",
      "\u001b[0;32m/var/folders/4h/h9s2_21x30jg2k3683jxrjv40000gn/T/ipykernel_11764/2358155042.py\u001b[0m in \u001b[0;36m<module>\u001b[0;34m\u001b[0m\n\u001b[1;32m      4\u001b[0m \u001b[0mmodel\u001b[0m \u001b[0;34m=\u001b[0m \u001b[0mload_model\u001b[0m\u001b[0;34m(\u001b[0m\u001b[0mprefix\u001b[0m\u001b[0;34m+\u001b[0m\u001b[0;34m\"weights/MNIST_on_SVHN_encoder.pt\"\u001b[0m\u001b[0;34m,\u001b[0m \u001b[0mprefix\u001b[0m\u001b[0;34m+\u001b[0m\u001b[0;34m\"weights/1/categorizer_{'mnist'}.pt\"\u001b[0m\u001b[0;34m)\u001b[0m\u001b[0;34m\u001b[0m\u001b[0;34m\u001b[0m\u001b[0m\n\u001b[1;32m      5\u001b[0m \u001b[0;34m\u001b[0m\u001b[0m\n\u001b[0;32m----> 6\u001b[0;31m \u001b[0mgrad_cam\u001b[0m\u001b[0;34m=\u001b[0m\u001b[0mGradCam\u001b[0m\u001b[0;34m(\u001b[0m\u001b[0mmodel\u001b[0m\u001b[0;34m,\u001b[0m\u001b[0mnp\u001b[0m\u001b[0;34m.\u001b[0m\u001b[0mexpand_dims\u001b[0m\u001b[0;34m(\u001b[0m\u001b[0mimage\u001b[0m\u001b[0;34m[\u001b[0m\u001b[0;36m0\u001b[0m\u001b[0;34m]\u001b[0m\u001b[0;34m[\u001b[0m\u001b[0;36m0\u001b[0m\u001b[0;34m]\u001b[0m\u001b[0;34m,\u001b[0m \u001b[0maxis\u001b[0m\u001b[0;34m=\u001b[0m\u001b[0;36m0\u001b[0m\u001b[0;34m)\u001b[0m\u001b[0;34m,\u001b[0m\u001b[0mlayer_name\u001b[0m\u001b[0;34m)\u001b[0m\u001b[0;34m\u001b[0m\u001b[0;34m\u001b[0m\u001b[0m\n\u001b[0m\u001b[1;32m      7\u001b[0m \u001b[0mgrad_cam_superimposed\u001b[0m \u001b[0;34m=\u001b[0m \u001b[0msuperimpose\u001b[0m\u001b[0;34m(\u001b[0m\u001b[0mimg\u001b[0m\u001b[0;34m,\u001b[0m \u001b[0mgrad_cam\u001b[0m\u001b[0;34m,\u001b[0m \u001b[0;36m0.5\u001b[0m\u001b[0;34m,\u001b[0m \u001b[0memphasize\u001b[0m\u001b[0;34m=\u001b[0m\u001b[0;32mTrue\u001b[0m\u001b[0;34m)\u001b[0m\u001b[0;34m\u001b[0m\u001b[0;34m\u001b[0m\u001b[0m\n\u001b[1;32m      8\u001b[0m \u001b[0;34m\u001b[0m\u001b[0m\n",
      "\u001b[0;32m/var/folders/4h/h9s2_21x30jg2k3683jxrjv40000gn/T/ipykernel_11764/3671994352.py\u001b[0m in \u001b[0;36mGradCam\u001b[0;34m(model, img_array, layer_name, eps)\u001b[0m\n\u001b[1;32m     18\u001b[0m \u001b[0;34m\u001b[0m\u001b[0m\n\u001b[1;32m     19\u001b[0m     gradModel = Model(\n\u001b[0;32m---> 20\u001b[0;31m                         \u001b[0minputs\u001b[0m\u001b[0;34m=\u001b[0m\u001b[0;34m[\u001b[0m\u001b[0mmodel\u001b[0m\u001b[0;34m.\u001b[0m\u001b[0minputs\u001b[0m\u001b[0;34m]\u001b[0m\u001b[0;34m,\u001b[0m\u001b[0;34m\u001b[0m\u001b[0;34m\u001b[0m\u001b[0m\n\u001b[0m\u001b[1;32m     21\u001b[0m \t\t\toutputs=[model.get_layer(layer_name).output,\n\u001b[1;32m     22\u001b[0m \t\t\t\tmodel.output])\n",
      "\u001b[0;32m~/miniconda3/envs/cos429/lib/python3.7/site-packages/torch/nn/modules/module.py\u001b[0m in \u001b[0;36m__getattr__\u001b[0;34m(self, name)\u001b[0m\n\u001b[1;32m   1268\u001b[0m                 \u001b[0;32mreturn\u001b[0m \u001b[0mmodules\u001b[0m\u001b[0;34m[\u001b[0m\u001b[0mname\u001b[0m\u001b[0;34m]\u001b[0m\u001b[0;34m\u001b[0m\u001b[0;34m\u001b[0m\u001b[0m\n\u001b[1;32m   1269\u001b[0m         raise AttributeError(\"'{}' object has no attribute '{}'\".format(\n\u001b[0;32m-> 1270\u001b[0;31m             type(self).__name__, name))\n\u001b[0m\u001b[1;32m   1271\u001b[0m \u001b[0;34m\u001b[0m\u001b[0m\n\u001b[1;32m   1272\u001b[0m     \u001b[0;32mdef\u001b[0m \u001b[0m__setattr__\u001b[0m\u001b[0;34m(\u001b[0m\u001b[0mself\u001b[0m\u001b[0;34m,\u001b[0m \u001b[0mname\u001b[0m\u001b[0;34m:\u001b[0m \u001b[0mstr\u001b[0m\u001b[0;34m,\u001b[0m \u001b[0mvalue\u001b[0m\u001b[0;34m:\u001b[0m \u001b[0mUnion\u001b[0m\u001b[0;34m[\u001b[0m\u001b[0mTensor\u001b[0m\u001b[0;34m,\u001b[0m \u001b[0;34m'Module'\u001b[0m\u001b[0;34m]\u001b[0m\u001b[0;34m)\u001b[0m \u001b[0;34m->\u001b[0m \u001b[0;32mNone\u001b[0m\u001b[0;34m:\u001b[0m\u001b[0;34m\u001b[0m\u001b[0;34m\u001b[0m\u001b[0m\n",
      "\u001b[0;31mAttributeError\u001b[0m: 'CNNClassifier' object has no attribute 'inputs'"
     ]
    }
   ],
   "source": []
  },
  {
   "cell_type": "code",
   "execution_count": null,
   "metadata": {},
   "outputs": [],
   "source": []
  }
 ],
 "metadata": {
  "interpreter": {
   "hash": "5026dcc8faa901074ac5884a0e073697a2ad80a01d5be01ad3120f1331c9eac0"
  },
  "kernelspec": {
   "display_name": "cos429",
   "language": "python",
   "name": "cos429"
  },
  "language_info": {
   "codemirror_mode": {
    "name": "ipython",
    "version": 3
   },
   "file_extension": ".py",
   "mimetype": "text/x-python",
   "name": "python",
   "nbconvert_exporter": "python",
   "pygments_lexer": "ipython3",
   "version": "3.7.12"
  }
 },
 "nbformat": 4,
 "nbformat_minor": 2
}
